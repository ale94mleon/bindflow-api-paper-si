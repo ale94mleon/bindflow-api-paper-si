{
 "cells": [
  {
   "cell_type": "markdown",
   "metadata": {},
   "source": [
    "# Building data"
   ]
  },
  {
   "cell_type": "markdown",
   "metadata": {},
   "source": [
    "## Assay data"
   ]
  },
  {
   "cell_type": "code",
   "execution_count": 1,
   "metadata": {},
   "outputs": [],
   "source": [
    "\n",
    "import pandas as pd\n",
    "from rdkit.Chem import PandasTools\n",
    "from rdkit import Chem\n",
    "from pathlib import Path\n",
    "import yaml"
   ]
  },
  {
   "cell_type": "markdown",
   "metadata": {},
   "source": [
    "## Create directories for plb"
   ]
  },
  {
   "cell_type": "code",
   "execution_count": 2,
   "metadata": {},
   "outputs": [
    {
     "data": {
      "text/plain": [
       "[None, None, None]"
      ]
     },
     "execution_count": 2,
     "metadata": {},
     "output_type": "execute_result"
    }
   ],
   "source": [
    "paths = {\n",
    "    '00_data': Path('../00_data').resolve(),\n",
    "    '01_protein_crd': Path('../01_protein/crd').resolve(),\n",
    "    '02_ligands': Path('../02_ligands').resolve()\n",
    "}\n",
    "[paths[p].mkdir(exist_ok = True, parents=True) for p in paths]"
   ]
  },
  {
   "cell_type": "markdown",
   "metadata": {},
   "source": [
    "## 00_data"
   ]
  },
  {
   "cell_type": "code",
   "execution_count": 3,
   "metadata": {},
   "outputs": [],
   "source": [
    "# Edges\n",
    "edges = {\n",
    "    'mapper': None,\n",
    "    'planner': None,\n",
    "    'edges': None\n",
    "}\n",
    "\n",
    "target = {\n",
    "    'date': '2021-02-04',\n",
    "    'name': 'A2A',\n",
    "    'netcharge': '?',\n",
    "    'pdb': ['5OLZ', '6GT3'],\n",
    "    'references': {\n",
    "        'calculations': [\n",
    "            '10.1021/acs.jcim.0c00449'\n",
    "        ],\n",
    "        'measurement': [\n",
    "            '10.1021/acs.jcim.0c00449: Table S2'\n",
    "        ]\n",
    "    }\n",
    "}\n"
   ]
  },
  {
   "cell_type": "code",
   "execution_count": 4,
   "metadata": {},
   "outputs": [],
   "source": [
    "pKi = {\n",
    "    '4f': 8.39,\n",
    "    '4e': 8.85,\n",
    "    '4o': 8.32,\n",
    "    '4a': 6.93,\n",
    "    '4b': 7.29,\n",
    "    '4c': 8.4,\n",
    "    '4d': 7.67,\n",
    "    '4m': 7.73,\n",
    "    '4q': 6.51,\n",
    "    '4g': 8.11,\n",
    "    '4n': 8.47,\n",
    "    '4h': 7.81,\n",
    "    '4i': 7.56,\n",
    "    '4j': 7.98,\n",
    "    '4k': 8.46,\n",
    "    '4l': 8.34,\n",
    "    '4r': 8.4\n",
    "}\n",
    "suppl = Chem.SDMolSupplier('A2A_FEPstudy8_LigandSet6.sdf')"
   ]
  },
  {
   "cell_type": "code",
   "execution_count": 5,
   "metadata": {},
   "outputs": [],
   "source": [
    "ligands = dict()\n",
    "for mol in suppl:\n",
    "    mol = Chem.AddHs(mol)\n",
    "    name = mol.GetProp(\"_Name\").strip()\n",
    "\n",
    "    ligands[name] = {\n",
    "        'measurement': {\n",
    "            'charge': float(Chem.GetFormalCharge(mol)),\n",
    "            'comment': 'raw data from Table S2',\n",
    "            'doi': '10.1021/acs.jcim.0c00449',\n",
    "            'error': 0,\n",
    "            'type': 'kd', # It is actually kd values\n",
    "            'unit': 'M',\n",
    "            'value': 10**(-pKi[name]),\n",
    "        },\n",
    "        'name': name,\n",
    "        'smiles': Chem.MolToSmiles(mol)\n",
    "    }\n"
   ]
  },
  {
   "cell_type": "code",
   "execution_count": 6,
   "metadata": {},
   "outputs": [],
   "source": [
    "with open(paths['00_data'] / 'edges.yml', 'w') as f:\n",
    "    yaml.dump(edges, f)\n",
    "\n",
    "with open(paths['00_data'] / 'target.yml', 'w') as f:\n",
    "    yaml.dump(target, f)\n",
    "\n",
    "with open(paths['00_data'] / 'ligands.yml', 'w') as f:\n",
    "    yaml.dump(ligands, f)\n"
   ]
  },
  {
   "cell_type": "markdown",
   "metadata": {},
   "source": [
    "## 01_protein_crd\n",
    "\n",
    "I will process A2A_FEPstudy8_receptor.pdb\n",
    "\n",
    "1. Process in CHARMM-GUI:\n",
    "    * Process protein only\n",
    "    * pH=7, apply\n",
    "    * Run PPM 2.0\n",
    "    * Hexagonal box\n",
    "    * Water thickness: 20\n",
    "    * Length of X and Y: 90 (initial guess)\n",
    "    * POPC\n",
    "    * Do not include ions\n",
    "    * force field:\n",
    "        - AMBER:\n",
    "            - Protein: ff14sb\n",
    "            - Lipid: SLipids\n",
    "            - Water: TIP3P\n",
    "    * Input Generation Options: GROMACS and OpenMM\n",
    "\n",
    "Open `gromac/step5_input.gro`. This file has the crystal information. Convert to PDB with:\n",
    "\n",
    "`gmx editconf -f charmm-gui-2491603708/gromacs/step5_input.gro -o temporal.pdb`.\n",
    "\n",
    "The last PDB will also have the crystal info. Split the PDB in POPC and protein. In PyMOL:\n",
    "\n",
    "* `select popc, resn POPC`: `../01_protein/crd/membrane.pdb`\n",
    "* `select prot, (polymer.protein)`\n",
    "* load `A2A_FEPstudy8_receptor.pdb` and align to prot:\n",
    "`align A2A_FEPstudy8_receptor, prot`, and save `A2A_FEPstudy8_receptor` to `A2A_FEPstudy8_receptor-aligned-to-charmm-gui.pdb`\n",
    "* In the directory: `manual-fix`: split into protein and NA atom and remove ANISOU: `grep -v \"ANISOU\" ../A2A_FEPstudy8_receptor-aligned-to-charmm-gui.pdb > protein.pdb`.\n",
    "* to this PDB file remove all the Hs of the MET1; replace `HXT` by `OXT` in SER305, and remove the rest Hs as well. Add the crystal information of `temporal.pdb`. The Na atoms is just to let it alone.\n",
    "\n",
    "\n",
    "Finally, copy the membrane and protein to `01_protein/crd`\n",
    "\n",
    " "
   ]
  },
  {
   "cell_type": "code",
   "execution_count": 7,
   "metadata": {},
   "outputs": [
    {
     "name": "stdout",
     "output_type": "stream",
     "text": [
      "../01_protein/crd/protein-amber14-all\n"
     ]
    }
   ],
   "source": [
    "\n",
    "import parmed\n",
    "import os\n",
    "from openmm import app\n",
    "from openff.toolkit.topology import Molecule\n",
    "# from openmmforcefields.generators import GAFFTemplateGenerator\n",
    "from rdkit import Chem\n",
    "\n",
    "\n",
    "pdb_prot_file = \"manual-fix/protein.pdb\"\n",
    "protein_force_fields = ['amber14-all']\n",
    "for protein_force_field in protein_force_fields:\n",
    "    forcefield = app.ForceField(f'{protein_force_field}.xml', 'tip3p.xml')\n",
    "\n",
    "    dirname = '../01_protein/crd'\n",
    "    filename = os.path.basename(pdb_prot_file).split('.')[0]\n",
    "    out_dir = os.path.join(dirname, f\"protein-{protein_force_field}\")\n",
    "    os.makedirs(out_dir, exist_ok=True)\n",
    "    print(out_dir)\n",
    "\n",
    "    pdb_obj = app.PDBFile(pdb_prot_file)\n",
    "    openmm_topology = pdb_obj.topology\n",
    "    # Fix topology\n",
    "    modeller = app.Modeller(pdb_obj.topology, pdb_obj.positions)\n",
    "    modeller.addHydrogens(forcefield, pH=7.0)\n",
    "\n",
    "    # Optionally save the modified structure to inspect it\n",
    "    with open('../01_protein/crd/protein.pdb', 'w') as output:\n",
    "        app.PDBFile.writeFile(modeller.topology, modeller.positions, output)\n",
    "\n",
    "    # Create an OpenMM System from an OpenMM Topology object\n",
    "    system = forcefield.createSystem(modeller.topology)\n",
    "\n",
    "    try:\n",
    "        struct = parmed.openmm.load_topology(modeller.topology, system = system, xyz = modeller.positions)\n",
    "        for file_type in [os.path.join(out_dir, f'{filename}.gro'), os.path.join(out_dir, f'{filename}.top')]:\n",
    "            struct.save(file_type, overwrite = True)\n",
    "    except ValueError as e:\n",
    "        print(e)"
   ]
  },
  {
   "cell_type": "markdown",
   "metadata": {},
   "source": [
    "### Co-factor\n",
    "\n",
    "Here we will build the topology from the atoms types of AMBER ions coming (i used the topology of some simulation that I already did i check with the information in BindFlow gmx_water_models). We just will rename the Na atom to yNa, so it doe not collide with the one used for neutralization.\n",
    "\n",
    "Then, `gmx editconf -f cofactor.pdb -o cofactor.gro`"
   ]
  },
  {
   "cell_type": "markdown",
   "metadata": {},
   "source": [
    "## 02_ligands\n",
    "\n",
    "Wee need to transfer the coordinates of the ligand to the aligned structure. For that we will use transrot"
   ]
  },
  {
   "cell_type": "code",
   "execution_count": 2,
   "metadata": {},
   "outputs": [],
   "source": [
    "from rdkit import Chem\n",
    "from transrot import TransRot\n",
    "from pathlib import Path\n",
    "\n",
    "\n",
    "def get_rdkit_coords(rdkit_mol):\n",
    "    conf = rdkit_mol.GetConformer()\n",
    "    coords = [(conf.GetAtomPosition(i).x, conf.GetAtomPosition(i).y, conf.GetAtomPosition(i).z) for i in range(rdkit_mol.GetNumAtoms())]\n",
    "    return coords\n",
    "\n",
    "\n",
    "def set_rdkit_coords(rdkit_mol, coords):\n",
    "    if len(coords) != rdkit_mol.GetNumAtoms():\n",
    "        raise ValueError(\"Number of new coordinates doesn't match number of atoms\")\n",
    "    conf = rdkit_mol.GetConformer()\n",
    "    for i, coord in enumerate(coords):\n",
    "        conf.SetAtomPosition(i, coord)"
   ]
  },
  {
   "cell_type": "code",
   "execution_count": 3,
   "metadata": {},
   "outputs": [],
   "source": [
    "\n",
    "original_pdb = Chem.MolFromPDBFile(\"A2A_FEPstudy8_receptor.pdb\")\n",
    "original_aligned_to_charmm_gui_pdb = Chem.MolFromPDBFile(\"A2A_FEPstudy8_receptor-aligned-to-charmm-gui.pdb\")\n",
    "\n",
    "transformation = TransRot(\n",
    "    coords1=get_rdkit_coords(original_pdb),\n",
    "    coords2=get_rdkit_coords(original_aligned_to_charmm_gui_pdb)\n",
    ")\n",
    "transformation.fit()\n",
    "\n",
    "\n",
    "sdf_suppl = \"A2A_FEPstudy8_LigandSet6.sdf\"\n",
    "\n",
    "out_path = Path(\"../02_ligands/sdf_split\").resolve()\n",
    "out_path.mkdir(exist_ok=True, parents=True)\n",
    "\n",
    "with Chem.SDMolSupplier(sdf_suppl, removeHs = False) as suppl:\n",
    "    for lig in suppl:\n",
    "        name = lig.GetProp(\"_Name\")\n",
    "        new_coords = transformation.transform(coords=get_rdkit_coords(lig))\n",
    "        set_rdkit_coords(lig, new_coords)\n",
    "        Chem.MolToMolFile(lig, str(out_path / f\"{name}.mol\"))"
   ]
  },
  {
   "cell_type": "code",
   "execution_count": 1,
   "metadata": {},
   "outputs": [],
   "source": [
    "# Build a unified SDF\n",
    "\n",
    "from rdkit import Chem\n",
    "from glob import glob\n",
    "\n",
    "with Chem.SDWriter(f\"../02_ligands/ligands.sdf\") as w:\n",
    "    for p in glob(\"../02_ligands/sdf_split/*.mol\"):\n",
    "        mol = Chem.MolFromMolFile(p, removeHs=False)\n",
    "        w.write(mol)"
   ]
  }
 ],
 "metadata": {
  "kernelspec": {
   "display_name": "plbenchmark",
   "language": "python",
   "name": "python3"
  },
  "language_info": {
   "codemirror_mode": {
    "name": "ipython",
    "version": 3
   },
   "file_extension": ".py",
   "mimetype": "text/x-python",
   "name": "python",
   "nbconvert_exporter": "python",
   "pygments_lexer": "ipython3",
   "version": "3.11.5"
  }
 },
 "nbformat": 4,
 "nbformat_minor": 2
}
