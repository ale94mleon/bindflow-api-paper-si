{
 "cells": [
  {
   "cell_type": "markdown",
   "metadata": {},
   "source": [
    "# Building data"
   ]
  },
  {
   "cell_type": "markdown",
   "metadata": {},
   "source": [
    "## Assay data"
   ]
  },
  {
   "cell_type": "code",
   "execution_count": 1,
   "metadata": {},
   "outputs": [],
   "source": [
    "\n",
    "import pandas as pd\n",
    "from rdkit.Chem import PandasTools\n",
    "from rdkit import Chem\n",
    "from pathlib import Path\n",
    "import yaml"
   ]
  },
  {
   "cell_type": "code",
   "execution_count": 2,
   "metadata": {},
   "outputs": [],
   "source": [
    "experimental_data = pd.read_csv(\"https://raw.githubusercontent.com/samplchallenges/SAMPL6/master/host_guest/Analysis/ExperimentalMeasurements/experimental_measurements.csv\", delimiter=\";\")\n",
    "\n",
    "guests = experimental_data[experimental_data['ID'].str.startswith(\"OA-\")]"
   ]
  },
  {
   "cell_type": "markdown",
   "metadata": {},
   "source": [
    "## Create directories for plb"
   ]
  },
  {
   "cell_type": "code",
   "execution_count": 3,
   "metadata": {},
   "outputs": [
    {
     "data": {
      "text/plain": [
       "[None, None, None]"
      ]
     },
     "execution_count": 3,
     "metadata": {},
     "output_type": "execute_result"
    }
   ],
   "source": [
    "paths = {\n",
    "    '00_data': Path('../00_data').resolve(),\n",
    "    '01_protein_crd': Path('../01_protein/crd').resolve(),\n",
    "    '02_ligands': Path('../02_ligands').resolve()\n",
    "}\n",
    "[paths[p].mkdir(exist_ok = True, parents=True) for p in paths]"
   ]
  },
  {
   "cell_type": "markdown",
   "metadata": {},
   "source": [
    "## 00_data"
   ]
  },
  {
   "cell_type": "code",
   "execution_count": 4,
   "metadata": {},
   "outputs": [],
   "source": [
    "# Edges\n",
    "edges = {\n",
    "    'mapper': None,\n",
    "    'planner': None,\n",
    "    'edges': None\n",
    "}\n",
    "\n",
    "target = {\n",
    "    'date': '2021-02-04',\n",
    "    'name': 'OA',\n",
    "    'netcharge': '?',\n",
    "    'pdb': 'none',\n",
    "    'references': {\n",
    "        'calculations': [\n",
    "            'https://github.com/samplchallenges/SAMPL6',\n",
    "            '10.1007/s10822-018-0170-6',\n",
    "        ],\n",
    "        'measurement': [\n",
    "            'https://github.com/samplchallenges/SAMPL6'\n",
    "        ]\n",
    "    }\n",
    "}\n"
   ]
  },
  {
   "cell_type": "code",
   "execution_count": null,
   "metadata": {},
   "outputs": [],
   "source": [
    "with open(paths['00_data'] / 'edges.yml', 'w') as f:\n",
    "    yaml.dump(edges, f)\n",
    "\n",
    "with open(paths['00_data'] / 'target.yml', 'w') as f:\n",
    "    yaml.dump(target, f)\n"
   ]
  },
  {
   "cell_type": "markdown",
   "metadata": {},
   "source": [
    "## 01_protein_crd\n",
    " "
   ]
  },
  {
   "cell_type": "code",
   "execution_count": 15,
   "metadata": {},
   "outputs": [
    {
     "name": "stdout",
     "output_type": "stream",
     "text": [
      "--2024-07-24 17:06:40--  https://raw.githubusercontent.com/samplchallenges/SAMPL6/master/host_guest/OctaAcidsAndGuests/OA.sdf\n",
      "Resolving raw.githubusercontent.com (raw.githubusercontent.com)... 2606:50c0:8000::154, 2606:50c0:8001::154, 2606:50c0:8002::154, ...\n",
      "Connecting to raw.githubusercontent.com (raw.githubusercontent.com)|2606:50c0:8000::154|:443... connected.\n",
      "HTTP request sent, awaiting response... 200 OK\n",
      "Length: 17519 (17K) [text/plain]\n",
      "Saving to: ‘../01_protein/crd/OA.sdf’\n",
      "\n",
      "OA.sdf              100%[===================>]  17,11K  --.-KB/s    in 0s      \n",
      "\n",
      "2024-07-24 17:06:40 (68,8 MB/s) - ‘../01_protein/crd/OA.sdf’ saved [17519/17519]\n",
      "\n"
     ]
    }
   ],
   "source": [
    "# Here get Espaloma parameters for the Host\n",
    "! wget -P ../01_protein/crd https://raw.githubusercontent.com/samplchallenges/SAMPL6/master/host_guest/OctaAcidsAndGuests/OA.sdf"
   ]
  },
  {
   "cell_type": "code",
   "execution_count": null,
   "metadata": {},
   "outputs": [],
   "source": [
    "from toff import Parameterize\n",
    "parameterizer = Parameterize(force_field_type='espaloma', force_field_code='espaloma-0.3.1', ext_types=['gro', 'top'], overwrite=True, safe_naming_prefix='y', out_dir=\"../01_protein/crd/espaloma-0.3.1\")\n",
    "parameterizer(\"../01_protein/crd/OA.sdf\", mol_resi_name=\"HOST\")"
   ]
  },
  {
   "cell_type": "markdown",
   "metadata": {},
   "source": [
    "## 02_ligands"
   ]
  },
  {
   "cell_type": "code",
   "execution_count": null,
   "metadata": {},
   "outputs": [
    {
     "name": "stdout",
     "output_type": "stream",
     "text": [
      "--2024-07-24 17:06:41--  https://raw.githubusercontent.com/samplchallenges/SAMPL6/master/host_guest/OctaAcidsAndGuests/OA-G0.sdf\n",
      "Resolving raw.githubusercontent.com (raw.githubusercontent.com)... 2606:50c0:8000::154, 2606:50c0:8001::154, 2606:50c0:8002::154, ...\n",
      "Connecting to raw.githubusercontent.com (raw.githubusercontent.com)|2606:50c0:8000::154|:443... connected.\n",
      "HTTP request sent, awaiting response... 200 OK\n",
      "Length: 1961 (1,9K) [text/plain]\n",
      "Saving to: ‘../02_ligands/OA-G0.sdf’\n",
      "\n",
      "OA-G0.sdf           100%[===================>]   1,92K  --.-KB/s    in 0s      \n",
      "\n",
      "2024-07-24 17:06:41 (15,6 MB/s) - ‘../02_ligands/OA-G0.sdf’ saved [1961/1961]\n",
      "\n",
      "--2024-07-24 17:06:41--  https://raw.githubusercontent.com/samplchallenges/SAMPL6/master/host_guest/OctaAcidsAndGuests/OA-G1.sdf\n",
      "Resolving raw.githubusercontent.com (raw.githubusercontent.com)... 2606:50c0:8000::154, 2606:50c0:8001::154, 2606:50c0:8002::154, ...\n",
      "Connecting to raw.githubusercontent.com (raw.githubusercontent.com)|2606:50c0:8000::154|:443... connected.\n",
      "HTTP request sent, awaiting response... 200 OK\n",
      "Length: 1663 (1,6K) [text/plain]\n",
      "Saving to: ‘../02_ligands/OA-G1.sdf’\n",
      "\n",
      "OA-G1.sdf           100%[===================>]   1,62K  --.-KB/s    in 0s      \n",
      "\n",
      "2024-07-24 17:06:41 (17,6 MB/s) - ‘../02_ligands/OA-G1.sdf’ saved [1663/1663]\n",
      "\n",
      "--2024-07-24 17:06:41--  https://raw.githubusercontent.com/samplchallenges/SAMPL6/master/host_guest/OctaAcidsAndGuests/OA-G2.sdf\n",
      "Resolving raw.githubusercontent.com (raw.githubusercontent.com)... 2606:50c0:8000::154, 2606:50c0:8001::154, 2606:50c0:8002::154, ...\n",
      "Connecting to raw.githubusercontent.com (raw.githubusercontent.com)|2606:50c0:8000::154|:443... connected.\n",
      "HTTP request sent, awaiting response... 200 OK\n",
      "Length: 2421 (2,4K) [text/plain]\n",
      "Saving to: ‘../02_ligands/OA-G2.sdf’\n",
      "\n",
      "OA-G2.sdf           100%[===================>]   2,36K  --.-KB/s    in 0s      \n",
      "\n",
      "2024-07-24 17:06:41 (18,2 MB/s) - ‘../02_ligands/OA-G2.sdf’ saved [2421/2421]\n",
      "\n",
      "--2024-07-24 17:06:42--  https://raw.githubusercontent.com/samplchallenges/SAMPL6/master/host_guest/OctaAcidsAndGuests/OA-G3.sdf\n",
      "Resolving raw.githubusercontent.com (raw.githubusercontent.com)... 2606:50c0:8000::154, 2606:50c0:8001::154, 2606:50c0:8002::154, ...\n",
      "Connecting to raw.githubusercontent.com (raw.githubusercontent.com)|2606:50c0:8000::154|:443... connected.\n",
      "HTTP request sent, awaiting response... 200 OK\n",
      "Length: 1663 (1,6K) [text/plain]\n",
      "Saving to: ‘../02_ligands/OA-G3.sdf’\n",
      "\n",
      "OA-G3.sdf           100%[===================>]   1,62K  --.-KB/s    in 0s      \n",
      "\n",
      "2024-07-24 17:06:42 (19,1 MB/s) - ‘../02_ligands/OA-G3.sdf’ saved [1663/1663]\n",
      "\n",
      "--2024-07-24 17:06:42--  https://raw.githubusercontent.com/samplchallenges/SAMPL6/master/host_guest/OctaAcidsAndGuests/OA-G4.sdf\n",
      "Resolving raw.githubusercontent.com (raw.githubusercontent.com)... 2606:50c0:8000::154, 2606:50c0:8001::154, 2606:50c0:8002::154, ...\n",
      "Connecting to raw.githubusercontent.com (raw.githubusercontent.com)|2606:50c0:8000::154|:443... connected.\n",
      "HTTP request sent, awaiting response... 200 OK\n",
      "Length: 2767 (2,7K) [text/plain]\n",
      "Saving to: ‘../02_ligands/OA-G4.sdf’\n",
      "\n",
      "OA-G4.sdf           100%[===================>]   2,70K  --.-KB/s    in 0,001s  \n",
      "\n",
      "2024-07-24 17:06:42 (2,43 MB/s) - ‘../02_ligands/OA-G4.sdf’ saved [2767/2767]\n",
      "\n",
      "--2024-07-24 17:06:43--  https://raw.githubusercontent.com/samplchallenges/SAMPL6/master/host_guest/OctaAcidsAndGuests/OA-G5.sdf\n",
      "Resolving raw.githubusercontent.com (raw.githubusercontent.com)... 2606:50c0:8000::154, 2606:50c0:8001::154, 2606:50c0:8002::154, ...\n",
      "Connecting to raw.githubusercontent.com (raw.githubusercontent.com)|2606:50c0:8000::154|:443... connected.\n",
      "HTTP request sent, awaiting response... 200 OK\n",
      "Length: 1663 (1,6K) [text/plain]\n",
      "Saving to: ‘../02_ligands/OA-G5.sdf’\n",
      "\n",
      "OA-G5.sdf           100%[===================>]   1,62K  --.-KB/s    in 0s      \n",
      "\n",
      "2024-07-24 17:06:43 (11,8 MB/s) - ‘../02_ligands/OA-G5.sdf’ saved [1663/1663]\n",
      "\n",
      "--2024-07-24 17:06:43--  https://raw.githubusercontent.com/samplchallenges/SAMPL6/master/host_guest/OctaAcidsAndGuests/OA-G6.sdf\n",
      "Resolving raw.githubusercontent.com (raw.githubusercontent.com)... 2606:50c0:8000::154, 2606:50c0:8001::154, 2606:50c0:8002::154, ...\n",
      "Connecting to raw.githubusercontent.com (raw.githubusercontent.com)|2606:50c0:8000::154|:443... connected.\n",
      "HTTP request sent, awaiting response... 200 OK\n",
      "Length: 1847 (1,8K) [text/plain]\n",
      "Saving to: ‘../02_ligands/OA-G6.sdf’\n",
      "\n",
      "OA-G6.sdf           100%[===================>]   1,80K  --.-KB/s    in 0s      \n",
      "\n",
      "2024-07-24 17:06:43 (13,1 MB/s) - ‘../02_ligands/OA-G6.sdf’ saved [1847/1847]\n",
      "\n",
      "--2024-07-24 17:06:43--  https://raw.githubusercontent.com/samplchallenges/SAMPL6/master/host_guest/OctaAcidsAndGuests/OA-G7.sdf\n",
      "Resolving raw.githubusercontent.com (raw.githubusercontent.com)... 2606:50c0:8000::154, 2606:50c0:8001::154, 2606:50c0:8002::154, ...\n",
      "Connecting to raw.githubusercontent.com (raw.githubusercontent.com)|2606:50c0:8000::154|:443... connected.\n",
      "HTTP request sent, awaiting response... 200 OK\n",
      "Length: 1939 (1,9K) [text/plain]\n",
      "Saving to: ‘../02_ligands/OA-G7.sdf’\n",
      "\n",
      "OA-G7.sdf           100%[===================>]   1,89K  --.-KB/s    in 0s      \n",
      "\n",
      "2024-07-24 17:06:43 (6,18 MB/s) - ‘../02_ligands/OA-G7.sdf’ saved [1939/1939]\n",
      "\n"
     ]
    }
   ],
   "source": [
    "for name in guests.ID:\n",
    "    ! wget -P ../02_ligands/sdf_split https://raw.githubusercontent.com/samplchallenges/SAMPL6/master/host_guest/OctaAcidsAndGuests/{name}.sdf"
   ]
  },
  {
   "cell_type": "code",
   "execution_count": null,
   "metadata": {},
   "outputs": [],
   "source": [
    "# Build a unified SDF\n",
    "\n",
    "from rdkit import Chem\n",
    "from glob import glob\n",
    "\n",
    "with Chem.SDWriter(f\"../02_ligands/ligands.sdf\") as w:\n",
    "    for p in glob(\"../02_ligands/sdf_split/*.sdf\"):\n",
    "        mol = Chem.MolFromMolFile(p, removeHs=False)\n",
    "        w.write(mol)\n"
   ]
  },
  {
   "cell_type": "code",
   "execution_count": 6,
   "metadata": {},
   "outputs": [],
   "source": [
    "ligands = dict()\n",
    "for _, row in guests.iterrows():\n",
    "    mol = Chem.MolFromMolFile(f\"../02_ligands/sdf_split/{row.ID}.sdf\")\n",
    "\n",
    "    ligands[row.ID] = {\n",
    "        'measurement': {\n",
    "            'charge': float(Chem.GetFormalCharge(mol)),\n",
    "            'comment': 'https://raw.githubusercontent.com/samplchallenges/SAMPL6/master/host_guest/Analysis/ExperimentalMeasurements/experimental_measurements.csv',\n",
    "            'doi': '10.1007/s10822-018-0170-6',\n",
    "            'error': row['dDG'],\n",
    "            'type': 'dg',\n",
    "            'unit': 'kcal/mol',\n",
    "            'value': row['DG'],\n",
    "        },\n",
    "        'name': row.ID,\n",
    "        'smiles': Chem.MolToSmiles(mol)\n",
    "    }\n"
   ]
  },
  {
   "cell_type": "code",
   "execution_count": 7,
   "metadata": {},
   "outputs": [],
   "source": [
    "with open(paths['00_data'] / 'ligands.yml', 'w') as f:\n",
    "    yaml.dump(ligands, f)"
   ]
  },
  {
   "cell_type": "markdown",
   "metadata": {},
   "source": [
    "# Liganf OA-G7.sdf was excluded from the analysis as it was unstable during FEP simulation."
   ]
  }
 ],
 "metadata": {
  "kernelspec": {
   "display_name": "plbenchmark",
   "language": "python",
   "name": "python3"
  },
  "language_info": {
   "codemirror_mode": {
    "name": "ipython",
    "version": 3
   },
   "file_extension": ".py",
   "mimetype": "text/x-python",
   "name": "python",
   "nbconvert_exporter": "python",
   "pygments_lexer": "ipython3",
   "version": "3.11.5"
  }
 },
 "nbformat": 4,
 "nbformat_minor": 2
}
