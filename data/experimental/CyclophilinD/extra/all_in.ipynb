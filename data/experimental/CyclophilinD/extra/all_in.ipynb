{
 "cells": [
  {
   "cell_type": "markdown",
   "metadata": {},
   "source": [
    "# Making Protein-ligand-benchmark-like data"
   ]
  },
  {
   "cell_type": "code",
   "execution_count": 36,
   "metadata": {},
   "outputs": [],
   "source": [
    "import yaml\n",
    "from pathlib import Path\n",
    "from rdkit import Chem\n",
    "import pandas as pd\n",
    "import shutil"
   ]
  },
  {
   "cell_type": "code",
   "execution_count": 11,
   "metadata": {},
   "outputs": [
    {
     "data": {
      "text/plain": [
       "[None, None, None]"
      ]
     },
     "execution_count": 11,
     "metadata": {},
     "output_type": "execute_result"
    }
   ],
   "source": [
    "paths = {\n",
    "    '00_data': Path('../00_data').resolve(),\n",
    "    '01_protein_crd': Path('../01_protein/crd').resolve(),\n",
    "    '02_ligands': Path('../02_ligands').resolve()\n",
    "}\n",
    "[paths[p].mkdir(exist_ok = True, parents=True) for p in paths]"
   ]
  },
  {
   "cell_type": "code",
   "execution_count": 12,
   "metadata": {},
   "outputs": [
    {
     "name": "stdout",
     "output_type": "stream",
     "text": [
      "Cloning into 'abfe_workflow'...\n",
      "remote: Enumerating objects: 308, done.\u001b[K\n",
      "remote: Counting objects: 100% (308/308), done.\u001b[K\n",
      "remote: Compressing objects: 100% (160/160), done.\u001b[K\n",
      "remote: Total 308 (delta 129), reused 251 (delta 111), pack-reused 0\u001b[K\n",
      "Receiving objects: 100% (308/308), 5.68 MiB | 7.47 MiB/s, done.\n",
      "Resolving deltas: 100% (129/129), done.\n",
      "Cloning into 'data'...\n",
      "remote: Enumerating objects: 197, done.\u001b[K\n",
      "remote: Counting objects: 100% (197/197), done.\u001b[K\n",
      "remote: Compressing objects: 100% (120/120), done.\u001b[K\n",
      "remote: Total 197 (delta 37), reused 190 (delta 37), pack-reused 0\u001b[K\n",
      "Receiving objects: 100% (197/197), 195.27 MiB | 11.82 MiB/s, done.\n",
      "Resolving deltas: 100% (37/37), done.\n"
     ]
    }
   ],
   "source": [
    "! git clone --depth 1 https://github.com/bigginlab/ABFE_workflow abfe_workflow\n",
    "! cp -r abfe_workflow/examples/CyclophilinD_data/minimal_input input\n",
    "! rm -rf abfe_workflow\n",
    "! git clone --depth 1 https://github.com/IAlibay/fragment-opt-abfe-benchmark data\n",
    "! cp data/free_energy_data/abfe.csv .\n",
    "! rm -rf data\n"
   ]
  },
  {
   "cell_type": "markdown",
   "metadata": {},
   "source": [
    "## 00_data and 02_ligand"
   ]
  },
  {
   "cell_type": "code",
   "execution_count": 13,
   "metadata": {},
   "outputs": [],
   "source": [
    "# Edges\n",
    "edges = {\n",
    "    'mapper': None,\n",
    "    'planner': None,\n",
    "    'edges': None\n",
    "}\n",
    "\n",
    "target = {\n",
    "    'data': '2023-12-02',\n",
    "    'name': 'CyclophilinD',\n",
    "    'netcharge': '+4 e',\n",
    "    'pdb': 'https://github.com/bigginlab/ABFE_workflow/blob/main/examples/CyclophilinD_data/minimal_input/receptor_protein.pdb',\n",
    "    'references': {\n",
    "        'calculations': [\n",
    "            '0.1021/ja512751q',\n",
    "            '10.1021/acs.jcim.9b00105',\n",
    "            '10.1039/C9SC03754C',\n",
    "        ],\n",
    "        'measurement': [\n",
    "            'https://github.com/IAlibay/fragment-opt-abfe-benchmark/blob/main/free_energy_data/abfe.csv'\n",
    "        ]\n",
    "    }\n",
    "}"
   ]
  },
  {
   "cell_type": "code",
   "execution_count": 14,
   "metadata": {},
   "outputs": [
    {
     "data": {
      "text/html": [
       "<div>\n",
       "<style scoped>\n",
       "    .dataframe tbody tr th:only-of-type {\n",
       "        vertical-align: middle;\n",
       "    }\n",
       "\n",
       "    .dataframe tbody tr th {\n",
       "        vertical-align: top;\n",
       "    }\n",
       "\n",
       "    .dataframe thead th {\n",
       "        text-align: right;\n",
       "    }\n",
       "</style>\n",
       "<table border=\"1\" class=\"dataframe\">\n",
       "  <thead>\n",
       "    <tr style=\"text-align: right;\">\n",
       "      <th></th>\n",
       "      <th>ligand</th>\n",
       "      <th>calc_dG</th>\n",
       "      <th>sem_calc_dG</th>\n",
       "      <th>exp_dG</th>\n",
       "    </tr>\n",
       "  </thead>\n",
       "  <tbody>\n",
       "    <tr>\n",
       "      <th>0</th>\n",
       "      <td>ligand-14</td>\n",
       "      <td>-12.9160</td>\n",
       "      <td>0.193639</td>\n",
       "      <td>-11.22</td>\n",
       "    </tr>\n",
       "    <tr>\n",
       "      <th>1</th>\n",
       "      <td>ligand-16</td>\n",
       "      <td>-10.5400</td>\n",
       "      <td>0.216310</td>\n",
       "      <td>-8.42</td>\n",
       "    </tr>\n",
       "    <tr>\n",
       "      <th>2</th>\n",
       "      <td>ligand-2</td>\n",
       "      <td>-7.6860</td>\n",
       "      <td>0.167147</td>\n",
       "      <td>-9.06</td>\n",
       "    </tr>\n",
       "    <tr>\n",
       "      <th>3</th>\n",
       "      <td>ligand-27</td>\n",
       "      <td>-10.2080</td>\n",
       "      <td>0.491573</td>\n",
       "      <td>-7.57</td>\n",
       "    </tr>\n",
       "    <tr>\n",
       "      <th>4</th>\n",
       "      <td>ligand-3</td>\n",
       "      <td>-4.7060</td>\n",
       "      <td>0.098924</td>\n",
       "      <td>-2.93</td>\n",
       "    </tr>\n",
       "    <tr>\n",
       "      <th>5</th>\n",
       "      <td>ligand-39</td>\n",
       "      <td>-12.4885</td>\n",
       "      <td>0.129796</td>\n",
       "      <td>-8.43</td>\n",
       "    </tr>\n",
       "    <tr>\n",
       "      <th>6</th>\n",
       "      <td>ligand-4</td>\n",
       "      <td>-4.1420</td>\n",
       "      <td>0.361613</td>\n",
       "      <td>-2.90</td>\n",
       "    </tr>\n",
       "    <tr>\n",
       "      <th>7</th>\n",
       "      <td>ligand-40</td>\n",
       "      <td>-11.7780</td>\n",
       "      <td>0.234764</td>\n",
       "      <td>-8.08</td>\n",
       "    </tr>\n",
       "    <tr>\n",
       "      <th>8</th>\n",
       "      <td>ligand-7</td>\n",
       "      <td>-4.8540</td>\n",
       "      <td>0.075273</td>\n",
       "      <td>-2.73</td>\n",
       "    </tr>\n",
       "    <tr>\n",
       "      <th>9</th>\n",
       "      <td>ligand-8</td>\n",
       "      <td>-7.2400</td>\n",
       "      <td>0.263572</td>\n",
       "      <td>-4.04</td>\n",
       "    </tr>\n",
       "  </tbody>\n",
       "</table>\n",
       "</div>"
      ],
      "text/plain": [
       "      ligand  calc_dG  sem_calc_dG  exp_dG\n",
       "0  ligand-14 -12.9160     0.193639  -11.22\n",
       "1  ligand-16 -10.5400     0.216310   -8.42\n",
       "2   ligand-2  -7.6860     0.167147   -9.06\n",
       "3  ligand-27 -10.2080     0.491573   -7.57\n",
       "4   ligand-3  -4.7060     0.098924   -2.93\n",
       "5  ligand-39 -12.4885     0.129796   -8.43\n",
       "6   ligand-4  -4.1420     0.361613   -2.90\n",
       "7  ligand-40 -11.7780     0.234764   -8.08\n",
       "8   ligand-7  -4.8540     0.075273   -2.73\n",
       "9   ligand-8  -7.2400     0.263572   -4.04"
      ]
     },
     "execution_count": 14,
     "metadata": {},
     "output_type": "execute_result"
    }
   ],
   "source": [
    "ref_data = pd.read_csv('abfe.csv')\n",
    "ref_data = ref_data[ref_data.System == 'CycloD']\n",
    "ref_data['ligand'] = ref_data['ligand_ID'].apply(lambda x: f\"ligand-{x}\")\n",
    "\n",
    "ref_data = ref_data.groupby('ligand').agg({'calc_dG': ['mean', 'sem'], 'exp_dG': 'first'}).reset_index()\n",
    "\n",
    "\n",
    "# Rename the columns\n",
    "ref_data.columns = ['ligand', 'calc_dG', 'sem_calc_dG', 'exp_dG']\n",
    "ref_data"
   ]
  },
  {
   "cell_type": "code",
   "execution_count": 37,
   "metadata": {},
   "outputs": [],
   "source": [
    "(paths['02_ligands'] / 'sdf_split').mkdir(exist_ok=True)\n",
    "ligands = dict()\n",
    "with Chem.SDWriter(str(paths['02_ligands'] / 'ligands.sdf')) as writer:\n",
    "    for _, row in ref_data.iterrows():\n",
    "        mol = Chem.MolFromMolFile(f'input/ligands/{row.ligand}.sdf', removeHs=False)\n",
    "        writer.write(mol)\n",
    "        shutil.copy(f'input/ligands/{row.ligand}.sdf', paths['02_ligands'] / 'sdf_split')\n",
    "        ligands[row.ligand] = {\n",
    "                'charge': float(Chem.GetFormalCharge(mol)),\n",
    "                'measurement': {\n",
    "                    'comment': 'Experimental Data',\n",
    "                    'doi': 'https://github.com/IAlibay/fragment-opt-abfe-benchmark/blob/main/free_energy_data/abfe.csv',\n",
    "                    'error': 0,\n",
    "                    'type': 'dg',\n",
    "                    'unit': 'kcal/mol',\n",
    "                    'value': row.exp_dG,\n",
    "                },\n",
    "                'measurement_alt': {\n",
    "                    'comment': 'Theoretical Data / GAFF2m',\n",
    "                    'doi': ['https://github.com/IAlibay/fragment-opt-abfe-benchmark/blob/main/free_energy_data/abfe.csv',\n",
    "                            'https://www.nature.com/articles/s42004-022-00721-4'],\n",
    "                    'error': row.sem_calc_dG,\n",
    "                    'type': 'dg',\n",
    "                    'unit': 'kcal/mol',\n",
    "                    'value': row.calc_dG,\n",
    "                },\n",
    "                'name': row.ligand,\n",
    "                'smiles': Chem.MolToSmiles(mol)\n",
    "                }"
   ]
  },
  {
   "cell_type": "code",
   "execution_count": 38,
   "metadata": {},
   "outputs": [],
   "source": [
    "with open(paths['00_data'] / 'edges.yml', 'w') as f:\n",
    "    yaml.dump(edges, f)\n",
    "\n",
    "with open(paths['00_data'] / 'target.yml', 'w') as f:\n",
    "    yaml.dump(target, f)\n",
    "\n",
    "with open(paths['00_data'] / 'ligands.yml', 'w') as f:\n",
    "    yaml.dump(ligands, f)\n"
   ]
  },
  {
   "cell_type": "markdown",
   "metadata": {},
   "source": [
    "## 01_protein_crd"
   ]
  },
  {
   "cell_type": "code",
   "execution_count": 40,
   "metadata": {},
   "outputs": [],
   "source": [
    "! cp input/receptor_protein.pdb {paths['01_protein_crd']}"
   ]
  }
 ],
 "metadata": {
  "kernelspec": {
   "display_name": "plbenchmark",
   "language": "python",
   "name": "python3"
  },
  "language_info": {
   "codemirror_mode": {
    "name": "ipython",
    "version": 3
   },
   "file_extension": ".py",
   "mimetype": "text/x-python",
   "name": "python",
   "nbconvert_exporter": "python",
   "pygments_lexer": "ipython3",
   "version": "3.11.5"
  }
 },
 "nbformat": 4,
 "nbformat_minor": 2
}
