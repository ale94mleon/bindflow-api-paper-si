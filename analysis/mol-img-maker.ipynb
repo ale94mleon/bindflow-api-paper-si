{
 "cells": [
  {
   "cell_type": "code",
   "execution_count": 1,
   "id": "e2dd9b45",
   "metadata": {},
   "outputs": [],
   "source": [
    "from rdkit import Chem\n",
    "from rdkit.Chem import Draw\n",
    "import yaml\n",
    "\n",
    "def mol_drawer(data_set, out):\n",
    "    root_data_dir = \"/Users/klimt/GIT/BindFlow-benchmarck/BindFlowData\"\n",
    "    with open(root_data_dir+\"/\"+data_set+\"/00_data/ligands.yml\", \"r\") as f:\n",
    "        ligand_data = yaml.safe_load(f)\n",
    "\n",
    "    mols = []\n",
    "    legends = []\n",
    "    for _, info in ligand_data.items():\n",
    "        legends.append(f\"{info['name']}\\n{info['measurement']['type']} = {info['measurement']['value']:.2e} {info['measurement']['unit']}\")\n",
    "        mols.append(Chem.MolFromSmiles(info['smiles']))\n",
    "\n",
    "    svg_image = Draw.MolsToGridImage(mols, legends=legends, molsPerRow=4, useSVG=True, maxMols=100, subImgSize=(200, 200))\n",
    "    # Save the SVG content to a file\n",
    "\n",
    "    if str(out).endswith(\".svg\"):\n",
    "        with open(out, \"w\") as f:\n",
    "            f.write(svg_image.data)\n",
    "    else:\n",
    "        raise RuntimeError(\"only *.svg files\")\n",
    "    return svg_image"
   ]
  },
  {
   "cell_type": "code",
   "execution_count": null,
   "id": "f7575e4e",
   "metadata": {},
   "outputs": [],
   "source": [
    "\n",
    "systems = [\n",
    "    \"A2A\",\n",
    "    \"CyclophilinD\",\n",
    "    \"mcl1\",\n",
    "    \"p38\",\n",
    "    \"ptp1b\",\n",
    "    \"SAMPL6-OA\",\n",
    "    \"thrombin\",\n",
    "    \"tyk2\"\n",
    "]\n",
    "\n",
    "for system in systems:\n",
    "    mol_drawer(system, out=f\"mols/{system}.svg\")\n",
    "    \n",
    "\n"
   ]
  }
 ],
 "metadata": {
  "kernelspec": {
   "display_name": "plbenchmark",
   "language": "python",
   "name": "python3"
  },
  "language_info": {
   "codemirror_mode": {
    "name": "ipython",
    "version": 3
   },
   "file_extension": ".py",
   "mimetype": "text/x-python",
   "name": "python",
   "nbconvert_exporter": "python",
   "pygments_lexer": "ipython3",
   "version": "3.11.13"
  }
 },
 "nbformat": 4,
 "nbformat_minor": 5
}
